{
 "cells": [
  {
   "cell_type": "markdown",
   "metadata": {},
   "source": [
    "# Automated ML\n",
    "\n",
    "Importing Depedencies required for the project"
   ]
  },
  {
   "cell_type": "code",
   "execution_count": 6,
   "metadata": {
    "gather": {
     "logged": 1598423888013
    },
    "jupyter": {
     "outputs_hidden": false,
     "source_hidden": false
    },
    "nteract": {
     "transient": {
      "deleting": false
     }
    }
   },
   "outputs": [],
   "source": [
    "import os\n",
    "import pandas as pd\n",
    "import numpy as np\n",
    "import json\n",
    "import requests\n",
    "import joblib\n",
    "from sklearn.metrics import confusion_matrix\n",
    "import itertools\n",
    "\n",
    "from azureml.core import Dataset, Workspace, Experiment\n",
    "from azureml.core.compute import ComputeTarget, AmlCompute\n",
    "from azureml.core.compute_target import ComputeTargetException\n",
    "from azureml.widgets import RunDetails\n",
    "from azureml.train.automl import AutoMLConfig\n",
    "\n",
    "from azureml.core.model import InferenceConfig\n",
    "from azureml.core.webservice import AciWebservice, Webservice\n",
    "from azureml.core.model import Model\n",
    "from azureml.core.environment import Environment\n",
    "from azureml.data.dataset_factory import TabularDatasetFactory"
   ]
  },
  {
   "cell_type": "code",
   "execution_count": 2,
   "metadata": {
    "gather": {
     "logged": 1598423890461
    },
    "jupyter": {
     "outputs_hidden": false,
     "source_hidden": false
    },
    "nteract": {
     "transient": {
      "deleting": false
     }
    }
   },
   "outputs": [],
   "source": [
    "ws = Workspace.from_config()\n",
    "\n",
    "# choose a name for experiment\n",
    "experiment_name = 'Auto-stoke'\n",
    "\n",
    "experiment=Experiment(ws, experiment_name)"
   ]
  },
  {
   "cell_type": "code",
   "execution_count": 9,
   "metadata": {},
   "outputs": [],
   "source": [
    "found = False\n",
    "key = 'strokeDataset'\n",
    "description_text = \"Prediction of Stroke\"\n",
    "\n",
    "if key in ws.datasets.keys():\n",
    "    found = True\n",
    "    dataset = ws.datasets[key]\n",
    "    \n",
    "if not found :\n",
    "    example = 'https://raw.githubusercontent.com/123manju900/Capstone-AzureML/main/stroke-prediction-dataset.csv'\n",
    "    dataset = Dataset.Tabular.from_delimited_files(example)\n",
    "\n",
    "\n",
    "    dataset = dataset.register(workspace = ws,\n",
    "                          name = key , \n",
    "                          description = description_text )\n",
    "\n"
   ]
  },
  {
   "cell_type": "code",
   "execution_count": 3,
   "metadata": {},
   "outputs": [],
   "source": [
    "from train2 import clean_data"
   ]
  },
  {
   "cell_type": "code",
   "execution_count": 12,
   "metadata": {},
   "outputs": [],
   "source": [
    "df = dataset.to_pandas_dataframe()"
   ]
  },
  {
   "cell_type": "code",
   "execution_count": 14,
   "metadata": {},
   "outputs": [
    {
     "data": {
      "text/html": [
       "<div>\n",
       "<style scoped>\n",
       "    .dataframe tbody tr th:only-of-type {\n",
       "        vertical-align: middle;\n",
       "    }\n",
       "\n",
       "    .dataframe tbody tr th {\n",
       "        vertical-align: top;\n",
       "    }\n",
       "\n",
       "    .dataframe thead th {\n",
       "        text-align: right;\n",
       "    }\n",
       "</style>\n",
       "<table border=\"1\" class=\"dataframe\">\n",
       "  <thead>\n",
       "    <tr style=\"text-align: right;\">\n",
       "      <th></th>\n",
       "      <th>id</th>\n",
       "      <th>gender</th>\n",
       "      <th>age</th>\n",
       "      <th>hypertension</th>\n",
       "      <th>heart_disease</th>\n",
       "      <th>ever_married</th>\n",
       "      <th>work_type</th>\n",
       "      <th>Residence_type</th>\n",
       "      <th>avg_glucose_level</th>\n",
       "      <th>bmi</th>\n",
       "      <th>smoking_status</th>\n",
       "      <th>stroke</th>\n",
       "    </tr>\n",
       "  </thead>\n",
       "  <tbody>\n",
       "    <tr>\n",
       "      <th>0</th>\n",
       "      <td>9046</td>\n",
       "      <td>Male</td>\n",
       "      <td>67.0</td>\n",
       "      <td>0</td>\n",
       "      <td>1</td>\n",
       "      <td>True</td>\n",
       "      <td>Private</td>\n",
       "      <td>Urban</td>\n",
       "      <td>228.69</td>\n",
       "      <td>36.6</td>\n",
       "      <td>formerly smoked</td>\n",
       "      <td>1</td>\n",
       "    </tr>\n",
       "    <tr>\n",
       "      <th>1</th>\n",
       "      <td>51676</td>\n",
       "      <td>Female</td>\n",
       "      <td>61.0</td>\n",
       "      <td>0</td>\n",
       "      <td>0</td>\n",
       "      <td>True</td>\n",
       "      <td>Self-employed</td>\n",
       "      <td>Rural</td>\n",
       "      <td>202.21</td>\n",
       "      <td>N/A</td>\n",
       "      <td>never smoked</td>\n",
       "      <td>1</td>\n",
       "    </tr>\n",
       "    <tr>\n",
       "      <th>2</th>\n",
       "      <td>31112</td>\n",
       "      <td>Male</td>\n",
       "      <td>80.0</td>\n",
       "      <td>0</td>\n",
       "      <td>1</td>\n",
       "      <td>True</td>\n",
       "      <td>Private</td>\n",
       "      <td>Rural</td>\n",
       "      <td>105.92</td>\n",
       "      <td>32.5</td>\n",
       "      <td>never smoked</td>\n",
       "      <td>1</td>\n",
       "    </tr>\n",
       "    <tr>\n",
       "      <th>3</th>\n",
       "      <td>60182</td>\n",
       "      <td>Female</td>\n",
       "      <td>49.0</td>\n",
       "      <td>0</td>\n",
       "      <td>0</td>\n",
       "      <td>True</td>\n",
       "      <td>Private</td>\n",
       "      <td>Urban</td>\n",
       "      <td>171.23</td>\n",
       "      <td>34.4</td>\n",
       "      <td>smokes</td>\n",
       "      <td>1</td>\n",
       "    </tr>\n",
       "    <tr>\n",
       "      <th>4</th>\n",
       "      <td>1665</td>\n",
       "      <td>Female</td>\n",
       "      <td>79.0</td>\n",
       "      <td>1</td>\n",
       "      <td>0</td>\n",
       "      <td>True</td>\n",
       "      <td>Self-employed</td>\n",
       "      <td>Rural</td>\n",
       "      <td>174.12</td>\n",
       "      <td>24</td>\n",
       "      <td>never smoked</td>\n",
       "      <td>1</td>\n",
       "    </tr>\n",
       "  </tbody>\n",
       "</table>\n",
       "</div>"
      ],
      "text/plain": [
       "      id  gender   age  hypertension  heart_disease  ever_married  \\\n",
       "0   9046    Male  67.0             0              1          True   \n",
       "1  51676  Female  61.0             0              0          True   \n",
       "2  31112    Male  80.0             0              1          True   \n",
       "3  60182  Female  49.0             0              0          True   \n",
       "4   1665  Female  79.0             1              0          True   \n",
       "\n",
       "       work_type Residence_type  avg_glucose_level   bmi   smoking_status  \\\n",
       "0        Private          Urban             228.69  36.6  formerly smoked   \n",
       "1  Self-employed          Rural             202.21   N/A     never smoked   \n",
       "2        Private          Rural             105.92  32.5     never smoked   \n",
       "3        Private          Urban             171.23  34.4           smokes   \n",
       "4  Self-employed          Rural             174.12    24     never smoked   \n",
       "\n",
       "   stroke  \n",
       "0       1  \n",
       "1       1  \n",
       "2       1  \n",
       "3       1  \n",
       "4       1  "
      ]
     },
     "execution_count": 14,
     "metadata": {},
     "output_type": "execute_result"
    }
   ],
   "source": [
    "dataset.take(5).to_pandas_dataframe()"
   ]
  },
  {
   "cell_type": "code",
   "execution_count": 15,
   "metadata": {},
   "outputs": [],
   "source": [
    "data_train, data_test = dataset.random_split(0.7)"
   ]
  },
  {
   "cell_type": "markdown",
   "metadata": {},
   "source": [
    "## Configuring Compute Cluster "
   ]
  },
  {
   "cell_type": "code",
   "execution_count": 16,
   "metadata": {},
   "outputs": [
    {
     "name": "stdout",
     "output_type": "stream",
     "text": [
      "Found existing cluster, use it.\n",
      "Succeeded\n",
      "AmlCompute wait for completion finished\n",
      "\n",
      "Minimum number of nodes requested have been provisioned\n"
     ]
    }
   ],
   "source": [
    "cpu_cluster_name = \"cpu-cluster\"\n",
    "\n",
    "# Verify that cluster does not exist already\n",
    "try:\n",
    "    compute_target = ComputeTarget(workspace=ws, name=cpu_cluster_name)\n",
    "    print('Found existing cluster, use it.')\n",
    "except ComputeTargetException:\n",
    "    compute_config = AmlCompute.provisioning_configuration(vm_size='STANDARD_D12_V2',\n",
    "                                                           max_nodes=5)\n",
    "    compute_target = ComputeTarget.create(ws, cpu_cluster_name, compute_config)\n",
    "\n",
    "compute_target.wait_for_completion(show_output=True)\n"
   ]
  },
  {
   "cell_type": "markdown",
   "metadata": {},
   "source": [
    "## AutoML Configuration\n",
    "\n"
   ]
  },
  {
   "cell_type": "code",
   "execution_count": 21,
   "metadata": {
    "gather": {
     "logged": 1598429217746
    },
    "jupyter": {
     "outputs_hidden": false,
     "source_hidden": false
    },
    "nteract": {
     "transient": {
      "deleting": false
     }
    }
   },
   "outputs": [],
   "source": [
    "automl_settings = {\n",
    "    \"experiment_timeout_minutes\": 20,\n",
    "    \"max_concurrent_iterations\": 4,\n",
    "    \"primary_metric\" : 'accuracy',\n",
    "    \"n_cross_validations\": 6\n",
    "}\n",
    "automl_config = AutoMLConfig(compute_target=compute_target,\n",
    "                             task = \"classification\",\n",
    "                             training_data=data_train,\n",
    "                             label_column_name=\"stroke\", \n",
    "                             enable_early_stopping= True,\n",
    "                             featurization= 'auto',\n",
    "                             **automl_settings\n",
    "                            )"
   ]
  },
  {
   "cell_type": "code",
   "execution_count": 22,
   "metadata": {
    "gather": {
     "logged": 1598431107951
    },
    "jupyter": {
     "outputs_hidden": false,
     "source_hidden": false
    },
    "nteract": {
     "transient": {
      "deleting": false
     }
    }
   },
   "outputs": [
    {
     "name": "stdout",
     "output_type": "stream",
     "text": [
      "Submitting remote run.\n",
      "No run_configuration provided, running on cpu-cluster with default configuration\n",
      "Running on remote compute: cpu-cluster\n"
     ]
    },
    {
     "data": {
      "text/html": [
       "<table style=\"width:100%\"><tr><th>Experiment</th><th>Id</th><th>Type</th><th>Status</th><th>Details Page</th><th>Docs Page</th></tr><tr><td>Auto-stoke</td><td>AutoML_73aa99f8-b9da-425e-8ddf-8cb0a8ce7a33</td><td>automl</td><td>NotStarted</td><td><a href=\"https://ml.azure.com/runs/AutoML_73aa99f8-b9da-425e-8ddf-8cb0a8ce7a33?wsid=/subscriptions/b968fb36-f06a-4c76-a15f-afab68ae7667/resourcegroups/aml-quickstarts-143086/workspaces/quick-starts-ws-143086&amp;tid=660b3398-b80e-49d2-bc5b-ac1dc93b5254\" target=\"_blank\" rel=\"noopener\">Link to Azure Machine Learning studio</a></td><td><a href=\"https://docs.microsoft.com/en-us/python/api/overview/azure/ml/intro?view=azure-ml-py\" target=\"_blank\" rel=\"noopener\">Link to Documentation</a></td></tr></table>"
      ],
      "text/plain": [
       "<IPython.core.display.HTML object>"
      ]
     },
     "metadata": {},
     "output_type": "display_data"
    },
    {
     "name": "stdout",
     "output_type": "stream",
     "text": [
      "\n",
      "Current status: FeaturesGeneration. Generating features for the dataset.\n",
      "Current status: DatasetBalancing. Performing class balancing sweeping\n",
      "Current status: ModelSelection. Beginning model selection.\n",
      "\n",
      "****************************************************************************************************\n",
      "DATA GUARDRAILS: \n",
      "\n",
      "TYPE:         Class balancing detection\n",
      "STATUS:       ALERTED\n",
      "DESCRIPTION:  To decrease model bias, please cancel the current run and fix balancing problem.\n",
      "              Learn more about imbalanced data: https://aka.ms/AutomatedMLImbalancedData\n",
      "DETAILS:      Imbalanced data can lead to a falsely perceived positive effect of a model's accuracy because the input data has bias towards one class.\n",
      "+---------------------------------+---------------------------------+--------------------------------------+\n",
      "|Size of the smallest class       |Name/Label of the smallest class |Number of samples in the training data|\n",
      "+=================================+=================================+======================================+\n",
      "|222                              |1                                |4605                                  |\n",
      "+---------------------------------+---------------------------------+--------------------------------------+\n",
      "\n",
      "****************************************************************************************************\n",
      "\n",
      "TYPE:         Missing feature values imputation\n",
      "STATUS:       PASSED\n",
      "DESCRIPTION:  No feature missing values were detected in the training data.\n",
      "              Learn more about missing value imputation: https://aka.ms/AutomatedMLFeaturization\n",
      "\n",
      "****************************************************************************************************\n",
      "\n",
      "TYPE:         High cardinality feature detection\n",
      "STATUS:       DONE\n",
      "DESCRIPTION:  High cardinality features were detected in your inputs and handled.\n",
      "              Learn more about high cardinality feature handling: https://aka.ms/AutomatedMLFeaturization\n",
      "DETAILS:      High cardinality features refer to columns that contain a large percentage of unique values.\n",
      "+---------------------------------+---------------------------------+\n",
      "|Column name                      |Column Content Type              |\n",
      "+=================================+=================================+\n",
      "|bmi                              |categorical_hash                 |\n",
      "+---------------------------------+---------------------------------+\n",
      "\n",
      "****************************************************************************************************\n",
      "\n",
      "****************************************************************************************************\n",
      "ITERATION: The iteration being evaluated.\n",
      "PIPELINE: A summary description of the pipeline being evaluated.\n",
      "DURATION: Time taken for the current iteration.\n",
      "METRIC: The result of computing score on the fitted pipeline.\n",
      "BEST: The best observed score thus far.\n",
      "****************************************************************************************************\n",
      "\n",
      " ITERATION   PIPELINE                                       DURATION      METRIC      BEST\n",
      "         3   MaxAbsScaler RandomForest                      0:00:44       0.7365    0.7365\n",
      "         0   MaxAbsScaler LightGBM                          0:00:44       0.5999    0.7365\n",
      "         2   MaxAbsScaler RandomForest                      0:00:45       0.7024    0.7365\n",
      "         1   MaxAbsScaler XGBoostClassifier                 0:00:45       0.7464    0.7464\n",
      "         4   MaxAbsScaler RandomForest                      0:00:45       0.4956    0.7464\n",
      "         5   MaxAbsScaler RandomForest                      0:00:48       0.4956    0.7464\n",
      "         6   SparseNormalizer XGBoostClassifier             0:00:47       0.6286    0.7464\n",
      "         7   SparseNormalizer XGBoostClassifier             0:00:51       0.5926    0.7464\n",
      "         8   SparseNormalizer XGBoostClassifier             0:00:49       0.6201    0.7464\n",
      "         9   StandardScalerWrapper LightGBM                 0:00:45       0.7412    0.7464\n",
      "        10   MaxAbsScaler RandomForest                      0:00:52       0.7679    0.7679\n",
      "        11   MaxAbsScaler LightGBM                          0:00:44       0.7424    0.7679\n",
      "        12   StandardScalerWrapper RandomForest             0:00:42       0.7676    0.7679\n",
      "        14   MaxAbsScaler LogisticRegression                0:00:46       0.6906    0.7679\n",
      "        13   MaxAbsScaler RandomForest                      0:00:57       0.7683    0.7683\n",
      "        15   MaxAbsScaler LightGBM                          0:00:42       0.7733    0.7733\n",
      "        16   MaxAbsScaler LightGBM                          0:00:53       0.7206    0.7733\n",
      "        17   MaxAbsScaler ExtremeRandomTrees                0:01:05       0.7683    0.7733\n",
      "        18   SparseNormalizer RandomForest                  0:00:43       0.6225    0.7733\n",
      "        19   SparseNormalizer LightGBM                      0:00:48       0.6780    0.7733\n",
      "        20   SparseNormalizer LightGBM                      0:00:52       0.6461    0.7733\n",
      "        21   MaxAbsScaler RandomForest                      0:01:01       0.7658    0.7733\n",
      "        22   SparseNormalizer XGBoostClassifier             0:00:58       0.6095    0.7733\n",
      "        23   StandardScalerWrapper ExtremeRandomTrees       0:00:53       0.7592    0.7733\n",
      "        24   MaxAbsScaler LightGBM                          0:00:44       0.7631    0.7733\n",
      "        25   StandardScalerWrapper LightGBM                 0:00:42       0.7555    0.7733\n",
      "        26   SparseNormalizer XGBoostClassifier             0:00:48       0.6388    0.7733\n",
      "        27   TruncatedSVDWrapper XGBoostClassifier          0:01:03       0.6627    0.7733\n",
      "        28   MaxAbsScaler LightGBM                          0:00:46       0.7557    0.7733\n",
      "        29   StandardScalerWrapper ExtremeRandomTrees       0:00:54       0.7660    0.7733\n",
      "        30   StandardScalerWrapper LightGBM                 0:00:46       0.7530    0.7733\n",
      "        31   SparseNormalizer LightGBM                      0:00:45       0.6831    0.7733\n",
      "        32   SparseNormalizer LightGBM                      0:00:56       0.6943    0.7733\n",
      "        33   MaxAbsScaler GradientBoosting                  0:00:54       0.7396    0.7733\n",
      "        34   MaxAbsScaler RandomForest                      0:00:51       0.7705    0.7733\n",
      "        35                                                  0:00:12          nan    0.7733\n",
      "        36    VotingEnsemble                                0:01:02       0.7914    0.7914\n",
      "        37    StackEnsemble                                 0:01:25       0.7612    0.7914\n"
     ]
    }
   ],
   "source": [
    "# TODO: Submit your experiment\n",
    "remote_run = experiment.submit(automl_config, show_output = True)"
   ]
  },
  {
   "cell_type": "markdown",
   "metadata": {},
   "source": [
    "## Run Details\n"
   ]
  },
  {
   "cell_type": "code",
   "execution_count": 23,
   "metadata": {},
   "outputs": [
    {
     "data": {
      "text/html": [
       "<table style=\"width:100%\"><tr><th>Experiment</th><th>Id</th><th>Type</th><th>Status</th><th>Details Page</th><th>Docs Page</th></tr><tr><td>Auto-stoke</td><td>AutoML_73aa99f8-b9da-425e-8ddf-8cb0a8ce7a33</td><td>automl</td><td>Completed</td><td><a href=\"https://ml.azure.com/runs/AutoML_73aa99f8-b9da-425e-8ddf-8cb0a8ce7a33?wsid=/subscriptions/b968fb36-f06a-4c76-a15f-afab68ae7667/resourcegroups/aml-quickstarts-143086/workspaces/quick-starts-ws-143086&amp;tid=660b3398-b80e-49d2-bc5b-ac1dc93b5254\" target=\"_blank\" rel=\"noopener\">Link to Azure Machine Learning studio</a></td><td><a href=\"https://docs.microsoft.com/en-us/python/api/overview/azure/ml/intro?view=azure-ml-py\" target=\"_blank\" rel=\"noopener\">Link to Documentation</a></td></tr></table>"
      ],
      "text/plain": [
       "Run(Experiment: Auto-stoke,\n",
       "Id: AutoML_73aa99f8-b9da-425e-8ddf-8cb0a8ce7a33,\n",
       "Type: automl,\n",
       "Status: Completed)"
      ]
     },
     "execution_count": 23,
     "metadata": {},
     "output_type": "execute_result"
    }
   ],
   "source": [
    "remote_run"
   ]
  },
  {
   "cell_type": "code",
   "execution_count": 25,
   "metadata": {},
   "outputs": [
    {
     "data": {
      "text/plain": [
       "<bound method _WidgetRunDetailsBase.show of <azureml.widgets._automl._run_details._AutoMLRunDetails object at 0x7f3819ba02e8>>"
      ]
     },
     "execution_count": 25,
     "metadata": {},
     "output_type": "execute_result"
    }
   ],
   "source": [
    "RunDetails(remote_run).show"
   ]
  },
  {
   "cell_type": "code",
   "execution_count": 26,
   "metadata": {},
   "outputs": [
    {
     "data": {
      "text/plain": [
       "{'runId': 'AutoML_73aa99f8-b9da-425e-8ddf-8cb0a8ce7a33',\n",
       " 'target': 'cpu-cluster',\n",
       " 'status': 'Completed',\n",
       " 'startTimeUtc': '2021-04-18T22:12:10.971159Z',\n",
       " 'endTimeUtc': '2021-04-18T22:38:27.653508Z',\n",
       " 'properties': {'num_iterations': '1000',\n",
       "  'training_type': 'TrainFull',\n",
       "  'acquisition_function': 'EI',\n",
       "  'primary_metric': 'accuracy',\n",
       "  'train_split': '0',\n",
       "  'acquisition_parameter': '0',\n",
       "  'num_cross_validation': '6',\n",
       "  'target': 'cpu-cluster',\n",
       "  'AMLSettingsJsonString': '{\"path\":null,\"name\":\"Auto-stoke\",\"subscription_id\":\"b968fb36-f06a-4c76-a15f-afab68ae7667\",\"resource_group\":\"aml-quickstarts-143086\",\"workspace_name\":\"quick-starts-ws-143086\",\"region\":\"southcentralus\",\"compute_target\":\"cpu-cluster\",\"spark_service\":null,\"azure_service\":\"remote\",\"many_models\":false,\"pipeline_fetch_max_batch_size\":1,\"enable_batch_run\":false,\"enable_run_restructure\":false,\"iterations\":1000,\"primary_metric\":\"accuracy\",\"task_type\":\"classification\",\"data_script\":null,\"test_size\":0.0,\"validation_size\":0.0,\"n_cross_validations\":6,\"y_min\":null,\"y_max\":null,\"num_classes\":null,\"featurization\":\"auto\",\"_ignore_package_version_incompatibilities\":false,\"is_timeseries\":false,\"max_cores_per_iteration\":1,\"max_concurrent_iterations\":4,\"iteration_timeout_minutes\":null,\"mem_in_mb\":null,\"enforce_time_on_windows\":false,\"experiment_timeout_minutes\":20,\"experiment_exit_score\":null,\"whitelist_models\":null,\"blacklist_algos\":[\"TensorFlowLinearClassifier\",\"TensorFlowDNN\"],\"supported_models\":[\"SVM\",\"DecisionTree\",\"LinearSVM\",\"MultinomialNaiveBayes\",\"TensorFlowDNN\",\"LogisticRegression\",\"RandomForest\",\"TensorFlowLinearClassifier\",\"GradientBoosting\",\"LightGBM\",\"SGD\",\"ExtremeRandomTrees\",\"KNN\",\"BernoulliNaiveBayes\",\"AveragedPerceptronClassifier\",\"XGBoostClassifier\"],\"private_models\":[],\"auto_blacklist\":true,\"blacklist_samples_reached\":false,\"exclude_nan_labels\":true,\"verbosity\":20,\"_debug_log\":\"azureml_automl.log\",\"show_warnings\":false,\"model_explainability\":true,\"service_url\":null,\"sdk_url\":null,\"sdk_packages\":null,\"enable_onnx_compatible_models\":false,\"enable_split_onnx_featurizer_estimator_models\":false,\"vm_type\":\"STANDARD_D12_V2\",\"telemetry_verbosity\":20,\"send_telemetry\":true,\"enable_dnn\":false,\"scenario\":\"SDK-1.13.0\",\"environment_label\":null,\"save_mlflow\":false,\"force_text_dnn\":false,\"enable_feature_sweeping\":true,\"enable_early_stopping\":true,\"early_stopping_n_iters\":10,\"metrics\":null,\"enable_metric_confidence\":false,\"enable_ensembling\":true,\"enable_stack_ensembling\":true,\"ensemble_iterations\":15,\"enable_tf\":false,\"enable_subsampling\":null,\"subsample_seed\":null,\"enable_nimbusml\":false,\"enable_streaming\":false,\"force_streaming\":false,\"track_child_runs\":true,\"allowed_private_models\":[],\"label_column_name\":\"stroke\",\"weight_column_name\":null,\"cv_split_column_names\":null,\"enable_local_managed\":false,\"_local_managed_run_id\":null,\"cost_mode\":1,\"lag_length\":0,\"metric_operation\":\"maximize\",\"preprocess\":true}',\n",
       "  'DataPrepJsonString': '{\\\\\"training_data\\\\\": {\\\\\"datasetId\\\\\": \\\\\"a9b88a76-10b0-46ec-b6fc-97f95583f2fe\\\\\"}, \\\\\"datasets\\\\\": 0}',\n",
       "  'EnableSubsampling': None,\n",
       "  'runTemplate': 'AutoML',\n",
       "  'azureml.runsource': 'automl',\n",
       "  'display_task_type': 'classification',\n",
       "  'dependencies_versions': '{\"azureml-widgets\": \"1.26.0\", \"azureml-train\": \"1.26.0\", \"azureml-train-restclients-hyperdrive\": \"1.26.0\", \"azureml-train-core\": \"1.26.0\", \"azureml-train-automl\": \"1.26.0\", \"azureml-train-automl-runtime\": \"1.26.0\", \"azureml-train-automl-client\": \"1.26.0\", \"azureml-tensorboard\": \"1.26.0\", \"azureml-telemetry\": \"1.26.0\", \"azureml-sdk\": \"1.26.0\", \"azureml-samples\": \"0+unknown\", \"azureml-pipeline\": \"1.26.0\", \"azureml-pipeline-steps\": \"1.26.0\", \"azureml-pipeline-core\": \"1.26.0\", \"azureml-opendatasets\": \"1.26.0\", \"azureml-model-management-sdk\": \"1.0.1b6.post1\", \"azureml-mlflow\": \"1.26.0\", \"azureml-interpret\": \"1.26.0\", \"azureml-explain-model\": \"1.26.0\", \"azureml-defaults\": \"1.26.0\", \"azureml-dataset-runtime\": \"1.26.0\", \"azureml-dataprep\": \"2.13.2\", \"azureml-dataprep-rslex\": \"1.11.2\", \"azureml-dataprep-native\": \"32.0.0\", \"azureml-datadrift\": \"1.26.0\", \"azureml-core\": \"1.26.0\", \"azureml-contrib-services\": \"1.26.0\", \"azureml-contrib-server\": \"1.26.0\", \"azureml-contrib-reinforcementlearning\": \"1.26.0\", \"azureml-contrib-pipeline-steps\": \"1.26.0\", \"azureml-contrib-notebook\": \"1.26.0\", \"azureml-contrib-gbdt\": \"1.26.0\", \"azureml-contrib-fairness\": \"1.26.0\", \"azureml-contrib-dataset\": \"1.26.0\", \"azureml-cli-common\": \"1.26.0\", \"azureml-automl-runtime\": \"1.26.0\", \"azureml-automl-dnn-nlp\": \"1.26.0\", \"azureml-automl-core\": \"1.26.0\", \"azureml-accel-models\": \"1.26.0\"}',\n",
       "  '_aml_system_scenario_identification': 'Remote.Parent',\n",
       "  'ClientType': 'SDK',\n",
       "  'environment_cpu_name': 'AzureML-AutoML',\n",
       "  'environment_cpu_label': 'prod',\n",
       "  'environment_gpu_name': 'AzureML-AutoML-GPU',\n",
       "  'environment_gpu_label': 'prod',\n",
       "  'root_attribution': 'automl',\n",
       "  'attribution': 'AutoML',\n",
       "  'Orchestrator': 'AutoML',\n",
       "  'CancelUri': 'https://southcentralus.experiments.azureml.net/jasmine/v1.0/subscriptions/b968fb36-f06a-4c76-a15f-afab68ae7667/resourceGroups/aml-quickstarts-143086/providers/Microsoft.MachineLearningServices/workspaces/quick-starts-ws-143086/experimentids/13d1075d-7d12-4683-9196-13aa115bd11d/cancel/AutoML_73aa99f8-b9da-425e-8ddf-8cb0a8ce7a33',\n",
       "  'ClientSdkVersion': '1.25.0',\n",
       "  'snapshotId': '00000000-0000-0000-0000-000000000000',\n",
       "  'SetupRunId': 'AutoML_73aa99f8-b9da-425e-8ddf-8cb0a8ce7a33_setup',\n",
       "  'SetupRunContainerId': 'dcid.AutoML_73aa99f8-b9da-425e-8ddf-8cb0a8ce7a33_setup',\n",
       "  'FeaturizationRunJsonPath': 'featurizer_container.json',\n",
       "  'FeaturizationRunId': 'AutoML_73aa99f8-b9da-425e-8ddf-8cb0a8ce7a33_featurize',\n",
       "  'ProblemInfoJsonString': '{\"dataset_num_categorical\": 0, \"is_sparse\": true, \"subsampling\": false, \"dataset_classes\": 2, \"dataset_features\": 275, \"dataset_samples\": 4605, \"single_frequency_class_detected\": false}',\n",
       "  'ModelExplainRunId': 'AutoML_73aa99f8-b9da-425e-8ddf-8cb0a8ce7a33_ModelExplain'},\n",
       " 'inputDatasets': [{'dataset': {'id': 'a9b88a76-10b0-46ec-b6fc-97f95583f2fe'}, 'consumptionDetails': {'type': 'RunInput', 'inputName': 'training_data', 'mechanism': 'Direct'}}],\n",
       " 'outputDatasets': [],\n",
       " 'logFiles': {},\n",
       " 'submittedBy': 'ODL_User 143086'}"
      ]
     },
     "execution_count": 26,
     "metadata": {},
     "output_type": "execute_result"
    }
   ],
   "source": [
    "remote_run.wait_for_completion()"
   ]
  },
  {
   "cell_type": "markdown",
   "metadata": {},
   "source": [
    "## Best Model\n",
    "\n",
    "TODO: In the cell below, get the best model from the automl experiments and display all the properties of the model.\n",
    "\n"
   ]
  },
  {
   "cell_type": "code",
   "execution_count": 27,
   "metadata": {
    "gather": {
     "logged": 1598431425670
    },
    "jupyter": {
     "outputs_hidden": false,
     "source_hidden": false
    },
    "nteract": {
     "transient": {
      "deleting": false
     }
    }
   },
   "outputs": [],
   "source": [
    "best_run, fitted_model = remote_run.get_output()\n",
    "best_run_metrics = best_run.get_metrics()"
   ]
  },
  {
   "cell_type": "code",
   "execution_count": 28,
   "metadata": {},
   "outputs": [
    {
     "data": {
      "text/html": [
       "<table style=\"width:100%\"><tr><th>Experiment</th><th>Id</th><th>Type</th><th>Status</th><th>Details Page</th><th>Docs Page</th></tr><tr><td>Auto-stoke</td><td>AutoML_73aa99f8-b9da-425e-8ddf-8cb0a8ce7a33_36</td><td>azureml.scriptrun</td><td>Completed</td><td><a href=\"https://ml.azure.com/runs/AutoML_73aa99f8-b9da-425e-8ddf-8cb0a8ce7a33_36?wsid=/subscriptions/b968fb36-f06a-4c76-a15f-afab68ae7667/resourcegroups/aml-quickstarts-143086/workspaces/quick-starts-ws-143086&amp;tid=660b3398-b80e-49d2-bc5b-ac1dc93b5254\" target=\"_blank\" rel=\"noopener\">Link to Azure Machine Learning studio</a></td><td><a href=\"https://docs.microsoft.com/en-us/python/api/azureml-core/azureml.core.run.Run?view=azure-ml-py\" target=\"_blank\" rel=\"noopener\">Link to Documentation</a></td></tr></table>"
      ],
      "text/plain": [
       "Run(Experiment: Auto-stoke,\n",
       "Id: AutoML_73aa99f8-b9da-425e-8ddf-8cb0a8ce7a33_36,\n",
       "Type: azureml.scriptrun,\n",
       "Status: Completed)"
      ]
     },
     "execution_count": 28,
     "metadata": {},
     "output_type": "execute_result"
    }
   ],
   "source": [
    "best_run"
   ]
  },
  {
   "cell_type": "code",
   "execution_count": 29,
   "metadata": {},
   "outputs": [
    {
     "data": {
      "text/plain": [
       "Pipeline(memory=None,\n",
       "         steps=[('datatransformer',\n",
       "                 DataTransformer(enable_dnn=None, enable_feature_sweeping=None,\n",
       "                                 feature_sweeping_config=None,\n",
       "                                 feature_sweeping_timeout=None,\n",
       "                                 featurization_config=None, force_text_dnn=None,\n",
       "                                 is_cross_validation=None,\n",
       "                                 is_onnx_compatible=None, logger=None,\n",
       "                                 observer=None, task=None, working_dir=None)),\n",
       "                ('prefittedsoftvotingclassifier',...\n",
       "                                                                                                subsample_for_bin=200000,\n",
       "                                                                                                subsample_freq=0,\n",
       "                                                                                                verbose=-10))],\n",
       "                                                                     verbose=False))],\n",
       "                                               flatten_transform=None,\n",
       "                                               weights=[0.07142857142857142,\n",
       "                                                        0.07142857142857142,\n",
       "                                                        0.07142857142857142,\n",
       "                                                        0.07142857142857142,\n",
       "                                                        0.07142857142857142,\n",
       "                                                        0.07142857142857142,\n",
       "                                                        0.07142857142857142,\n",
       "                                                        0.07142857142857142,\n",
       "                                                        0.07142857142857142,\n",
       "                                                        0.07142857142857142,\n",
       "                                                        0.21428571428571427,\n",
       "                                                        0.07142857142857142]))],\n",
       "         verbose=False)"
      ]
     },
     "execution_count": 29,
     "metadata": {},
     "output_type": "execute_result"
    }
   ],
   "source": [
    "fitted_model\n"
   ]
  },
  {
   "cell_type": "code",
   "execution_count": 30,
   "metadata": {
    "gather": {
     "logged": 1598431426111
    },
    "jupyter": {
     "outputs_hidden": false,
     "source_hidden": false
    },
    "nteract": {
     "transient": {
      "deleting": false
     }
    }
   },
   "outputs": [
    {
     "name": "stdout",
     "output_type": "stream",
     "text": [
      "Best Run Id:  AutoML_73aa99f8-b9da-425e-8ddf-8cb0a8ce7a33_36\n",
      "\n",
      " Accuracy: 0.7913830680216468\n",
      "PreFittedSoftVotingClassifier(classification_labels=None,\n",
      "                              estimators=[('15',\n",
      "                                           Pipeline(memory=None,\n",
      "                                                    steps=[('maxabsscaler',\n",
      "                                                            MaxAbsScaler(copy=True)),\n",
      "                                                           ('lightgbmclassifier',\n",
      "                                                            LightGBMClassifier(boosting_type='goss',\n",
      "                                                                               class_weight=None,\n",
      "                                                                               colsample_bytree=0.3966666666666666,\n",
      "                                                                               importance_type='split',\n",
      "                                                                               learning_rate=0.06316157894736842,\n",
      "                                                                               max_bin=380,\n",
      "                                                                               max_depth=5,\n",
      "                                                                               min_chil...\n",
      "                                                                               subsample=0.99,\n",
      "                                                                               subsample_for_bin=200000,\n",
      "                                                                               subsample_freq=0,\n",
      "                                                                               verbose=-10))],\n",
      "                                                    verbose=False))],\n",
      "                              flatten_transform=None,\n",
      "                              weights=[0.07142857142857142, 0.07142857142857142,\n",
      "                                       0.07142857142857142, 0.07142857142857142,\n",
      "                                       0.07142857142857142, 0.07142857142857142,\n",
      "                                       0.07142857142857142, 0.07142857142857142,\n",
      "                                       0.07142857142857142, 0.07142857142857142,\n",
      "                                       0.21428571428571427,\n",
      "                                       0.07142857142857142])\n",
      "{'_aml_system_azureml.automlComponent': 'AutoML', '_aml_system_ComputeTargetStatus': '{\"AllocationState\":\"steady\",\"PreparingNodeCount\":0,\"RunningNodeCount\":5,\"CurrentNodeCount\":5}', 'mlflow.source.type': 'JOB', 'mlflow.source.name': 'automl_driver.py', 'ensembled_iterations': '[15, 34, 17, 13, 10, 7, 12, 24, 23, 11, 9, 19]', 'ensembled_algorithms': \"['LightGBM', 'RandomForest', 'ExtremeRandomTrees', 'RandomForest', 'RandomForest', 'XGBoostClassifier', 'RandomForest', 'LightGBM', 'ExtremeRandomTrees', 'LightGBM', 'LightGBM', 'LightGBM']\", 'ensemble_weights': '[0.07142857142857142, 0.07142857142857142, 0.07142857142857142, 0.07142857142857142, 0.07142857142857142, 0.07142857142857142, 0.07142857142857142, 0.07142857142857142, 0.07142857142857142, 0.07142857142857142, 0.21428571428571427, 0.07142857142857142]', 'best_individual_pipeline_score': '0.773250268266119', 'best_individual_iteration': '15', '_aml_system_automl_is_child_run_end_telemetry_event_logged': 'True', 'model_explain_run_id': 'AutoML_73aa99f8-b9da-425e-8ddf-8cb0a8ce7a33_ModelExplain', 'model_explanation': 'True'}\n"
     ]
    }
   ],
   "source": [
    "print('Best Run Id: ', best_run.id)\n",
    "print('\\n Accuracy:', best_run_metrics['accuracy'])\n",
    "print(fitted_model._final_estimator)\n",
    "print(best_run.get_tags())"
   ]
  },
  {
   "cell_type": "code",
   "execution_count": 31,
   "metadata": {},
   "outputs": [
    {
     "data": {
      "text/plain": [
       "'AutoML73aa99f8b36'"
      ]
     },
     "execution_count": 31,
     "metadata": {},
     "output_type": "execute_result"
    }
   ],
   "source": [
    "os.makedirs('./outputs', exist_ok=True)\n",
    "\n",
    "joblib.dump(fitted_model, filename='outputs/automl.joblib')\n",
    "\n",
    "model_name = best_run.properties['model_name']\n",
    "model_name"
   ]
  },
  {
   "cell_type": "code",
   "execution_count": 36,
   "metadata": {},
   "outputs": [],
   "source": [
    "from azureml.automl.core.shared import constants \n",
    "env = best_run.get_environment()\n",
    "\n",
    "script_file = 'score.py'\n",
    "\n",
    "best_run.download_file('outputs/scoring_file_v_1_0_0.py', script_file)\n",
    "best_run.download_file(constants.CONDA_ENV_FILE_PATH, 'env.yml')"
   ]
  },
  {
   "cell_type": "markdown",
   "metadata": {},
   "source": [
    "## Model Deployment\n",
    "\n",
    "Remember you have to deploy only one of the two models you trained.. Perform the steps in the rest of this notebook only if you wish to deploy this model.\n",
    "\n",
    "TODO: In the cell below, register the model, create an inference config and deploy the model as a web service."
   ]
  },
  {
   "cell_type": "code",
   "execution_count": 43,
   "metadata": {
    "gather": {
     "logged": 1598431435189
    },
    "jupyter": {
     "outputs_hidden": false,
     "source_hidden": false
    },
    "nteract": {
     "transient": {
      "deleting": false
     }
    }
   },
   "outputs": [],
   "source": [
    "#Register the fitted model\n",
    "model = remote_run.register_model(model_name = model_name,\n",
    "                                  description = 'AutoML_model')"
   ]
  },
  {
   "cell_type": "code",
   "execution_count": 45,
   "metadata": {},
   "outputs": [
    {
     "name": "stdout",
     "output_type": "stream",
     "text": [
      "automl-webservice1\n"
     ]
    }
   ],
   "source": [
    "inference_config = InferenceConfig(entry_script = script_file, environment = env)\n",
    "\n",
    "aci_config = AciWebservice.deploy_configuration(cpu_cores = 1,\n",
    "                                                memory_gb = 1, \n",
    "                                                enable_app_insights = True,\n",
    "                                                auth_enabled = True\n",
    "                                               description = 'Predict whether person had stroke or not')\n",
    "                                            \n",
    "\n",
    "aci_service_name = 'automl-webservice1'\n",
    "print(aci_service_name)"
   ]
  },
  {
   "cell_type": "code",
   "execution_count": 46,
   "metadata": {
    "scrolled": true
   },
   "outputs": [
    {
     "name": "stdout",
     "output_type": "stream",
     "text": [
      "Tips: You can try get_logs(): https://aka.ms/debugimage#dockerlog or local deployment: https://aka.ms/debugimage#debug-locally to debug if deployment takes longer than 10 minutes.\n",
      "Running\n",
      "2021-04-18 23:26:00+00:00 Creating Container Registry if not exists.\n",
      "2021-04-18 23:26:00+00:00 Registering the environment.\n",
      "2021-04-18 23:26:01+00:00 Use the existing image.\n",
      "2021-04-18 23:26:01+00:00 Generating deployment configuration.\n",
      "2021-04-18 23:26:03+00:00 Submitting deployment to compute..\n",
      "2021-04-18 23:26:07+00:00 Checking the status of deployment automl-webservice1..\n",
      "2021-04-18 23:30:48+00:00 Checking the status of inference endpoint automl-webservice1.\n",
      "Succeeded\n",
      "ACI service creation operation finished, operation \"Succeeded\"\n",
      "State: Healthy\n",
      "Scoring URI: http://e4f662e9-12fa-46c1-83c9-e1ef5c48beb1.southcentralus.azurecontainer.io/score\n"
     ]
    }
   ],
   "source": [
    "service = Model.deploy(ws, aci_service_name, [model], inference_config, aci_config)\n",
    "service.wait_for_deployment(True)\n",
    "print(\"State: \" + service.state)\n",
    "print(\"Scoring URI: \" + service.scoring_uri)"
   ]
  },
  {
   "cell_type": "code",
   "execution_count": 47,
   "metadata": {},
   "outputs": [
    {
     "name": "stdout",
     "output_type": "stream",
     "text": [
      "State: Healthy\n",
      "Scoring URI: http://e4f662e9-12fa-46c1-83c9-e1ef5c48beb1.southcentralus.azurecontainer.io/score\n",
      "Keys: HzlqTWKDLKghgXcPVAOp3gkzA4ahAauQ\n",
      "Swagger URI: http://e4f662e9-12fa-46c1-83c9-e1ef5c48beb1.southcentralus.azurecontainer.io/swagger.json\n"
     ]
    }
   ],
   "source": [
    "print(\"State: \" + service.state)\n",
    "print(\"Scoring URI: \" + service.scoring_uri)\n",
    "print(\"Keys: \" + service.get_keys()[0])\n",
    "print(\"Swagger URI: \" + service.swagger_uri)"
   ]
  },
  {
   "cell_type": "markdown",
   "metadata": {
    "collapsed": true,
    "gather": {
     "logged": 1598431657736
    },
    "jupyter": {
     "outputs_hidden": false,
     "source_hidden": false
    },
    "nteract": {
     "transient": {
      "deleting": false
     }
    }
   },
   "source": [
    "TODO: In the cell below, send a request to the web service you deployed to test it."
   ]
  },
  {
   "cell_type": "code",
   "execution_count": 51,
   "metadata": {},
   "outputs": [
    {
     "name": "stdout",
     "output_type": "stream",
     "text": [
      "{\"data\": [{\"id\": 47844, \"gender\": \"Female\", \"age\": 38.0, \"hypertension\": 0, \"heart_disease\": 0, \"ever_married\": \"Yes\", \"work_type\": \"Private\", \"Residence_type\": \"Urban\", \"avg_glucose_level\": 69.34, \"bmi\": 43.7, \"smoking_status\": \"never smoked\"}, {\"id\": 57618, \"gender\": \"Female\", \"age\": 47.0, \"hypertension\": 0, \"heart_disease\": 0, \"ever_married\": \"Yes\", \"work_type\": \"Self-employed\", \"Residence_type\": \"Rural\", \"avg_glucose_level\": 140.39, \"bmi\": 25.5, \"smoking_status\": \"never smoked\"}, {\"id\": 56575, \"gender\": \"Female\", \"age\": 51.0, \"hypertension\": 1, \"heart_disease\": 0, \"ever_married\": \"Yes\", \"work_type\": \"Govt_job\", \"Residence_type\": \"Urban\", \"avg_glucose_level\": 69.94, \"bmi\": 33.3, \"smoking_status\": \"smokes\"}]}\n"
     ]
    }
   ],
   "source": [
    "data_test = data_test.dropna()\n",
    "data_sample = data_test.sample(3)\n",
    "y_true = data_sample.pop('stroke')\n",
    "sample_json = json.dumps({'data':data_sample.to_dict(orient='records')})\n",
    "print(sample_json)"
   ]
  },
  {
   "cell_type": "code",
   "execution_count": 50,
   "metadata": {},
   "outputs": [],
   "source": [
    "data_test = pd.read_csv('https://raw.githubusercontent.com/123manju900/Capstone-AzureML/main/stroke-prediction-dataset.csv')"
   ]
  },
  {
   "cell_type": "code",
   "execution_count": 52,
   "metadata": {},
   "outputs": [
    {
     "data": {
      "text/plain": [
       "'2021-04-18T23:30:25,356665500+00:00 - rsyslog/run \\n2021-04-18T23:30:25,359412100+00:00 - iot-server/run \\n2021-04-18T23:30:25,366626700+00:00 - gunicorn/run \\n2021-04-18T23:30:25,377213200+00:00 - nginx/run \\n/usr/sbin/nginx: /azureml-envs/azureml_8e5a5a51349877e7d47c6a2872e0ebfd/lib/libcrypto.so.1.0.0: no version information available (required by /usr/sbin/nginx)\\n/usr/sbin/nginx: /azureml-envs/azureml_8e5a5a51349877e7d47c6a2872e0ebfd/lib/libcrypto.so.1.0.0: no version information available (required by /usr/sbin/nginx)\\n/usr/sbin/nginx: /azureml-envs/azureml_8e5a5a51349877e7d47c6a2872e0ebfd/lib/libssl.so.1.0.0: no version information available (required by /usr/sbin/nginx)\\n/usr/sbin/nginx: /azureml-envs/azureml_8e5a5a51349877e7d47c6a2872e0ebfd/lib/libssl.so.1.0.0: no version information available (required by /usr/sbin/nginx)\\n/usr/sbin/nginx: /azureml-envs/azureml_8e5a5a51349877e7d47c6a2872e0ebfd/lib/libssl.so.1.0.0: no version information available (required by /usr/sbin/nginx)\\nrsyslogd: /azureml-envs/azureml_8e5a5a51349877e7d47c6a2872e0ebfd/lib/libuuid.so.1: no version information available (required by rsyslogd)\\nEdgeHubConnectionString and IOTEDGE_IOTHUBHOSTNAME are not set. Exiting...\\n2021-04-18T23:30:25,662604900+00:00 - iot-server/finish 1 0\\n2021-04-18T23:30:25,665509500+00:00 - Exit code 1 is normal. Not restarting iot-server.\\nStarting gunicorn 19.9.0\\nListening at: http://127.0.0.1:31311 (57)\\nUsing worker: sync\\nworker timeout is set to 300\\nBooting worker with pid: 86\\nSPARK_HOME not set. Skipping PySpark Initialization.\\nGenerating new fontManager, this may take some time...\\nInitializing logger\\n2021-04-18 23:30:28,237 | root | INFO | Starting up app insights client\\n2021-04-18 23:30:28,238 | root | INFO | Starting up request id generator\\n2021-04-18 23:30:28,239 | root | INFO | Starting up app insight hooks\\n2021-04-18 23:30:28,239 | root | INFO | Invoking user\\'s init function\\n2021-04-18 23:30:32,900 | azureml.core | WARNING | Failure while loading azureml_run_type_providers. Failed to load entrypoint automl = azureml.train.automl.run:AutoMLRun._from_run_dto with exception cannot import name \\'RunType\\'.\\nFailure while loading azureml_run_type_providers. Failed to load entrypoint automl = azureml.train.automl.run:AutoMLRun._from_run_dto with exception cannot import name \\'RunType\\'.\\n2021-04-18 23:30:34,059 | root | INFO | Users\\'s init has completed successfully\\n2021-04-18 23:30:34,068 | root | INFO | Skipping middleware: dbg_model_info as it\\'s not enabled.\\n2021-04-18 23:30:34,090 | root | INFO | Skipping middleware: dbg_resource_usage as it\\'s not enabled.\\n2021-04-18 23:30:34,096 | root | INFO | Scoring timeout is found from os.environ: 60000 ms\\n2021-04-18 23:30:48,329 | root | INFO | 200\\n127.0.0.1 - - [18/Apr/2021:23:30:48 +0000] \"GET /swagger.json HTTP/1.0\" 200 2704 \"-\" \"Go-http-client/1.1\"\\n2021-04-18 23:30:51,845 | root | INFO | 200\\n127.0.0.1 - - [18/Apr/2021:23:30:51 +0000] \"GET /swagger.json HTTP/1.0\" 200 2704 \"-\" \"Go-http-client/1.1\"\\n2021-04-18 23:32:05,255 | root | INFO | 200\\n127.0.0.1 - - [18/Apr/2021:23:32:05 +0000] \"GET /swagger.json HTTP/1.0\" 200 2704 \"-\" \"Go-http-client/1.1\"\\n2021-04-18 23:32:07,388 | root | INFO | 200\\n127.0.0.1 - - [18/Apr/2021:23:32:07 +0000] \"GET /swagger.json HTTP/1.0\" 200 2704 \"-\" \"Go-http-client/1.1\"\\n2021-04-18 23:33:03,136 | root | INFO | 200\\n127.0.0.1 - - [18/Apr/2021:23:33:03 +0000] \"GET /swagger.json HTTP/1.0\" 200 2704 \"-\" \"Go-http-client/1.1\"\\n'"
      ]
     },
     "execution_count": 52,
     "metadata": {},
     "output_type": "execute_result"
    }
   ],
   "source": [
    "service.get_logs(())"
   ]
  },
  {
   "cell_type": "markdown",
   "metadata": {
    "collapsed": true,
    "gather": {
     "logged": 1598432765711
    },
    "jupyter": {
     "outputs_hidden": false,
     "source_hidden": false
    },
    "nteract": {
     "transient": {
      "deleting": false
     }
    }
   },
   "source": [
    "TODO: In the cell below, print the logs of the web service and delete the service"
   ]
  },
  {
   "cell_type": "code",
   "execution_count": null,
   "metadata": {
    "jupyter": {
     "outputs_hidden": false,
     "source_hidden": false
    },
    "nteract": {
     "transient": {
      "deleting": false
     }
    }
   },
   "outputs": [],
   "source": [
    "service.delete()"
   ]
  }
 ],
 "metadata": {
  "kernel_info": {
   "name": "python3"
  },
  "kernelspec": {
   "display_name": "Python 3",
   "language": "python",
   "name": "python3"
  },
  "language_info": {
   "codemirror_mode": {
    "name": "ipython",
    "version": 3
   },
   "file_extension": ".py",
   "mimetype": "text/x-python",
   "name": "python",
   "nbconvert_exporter": "python",
   "pygments_lexer": "ipython3",
   "version": "3.6.9"
  },
  "nteract": {
   "version": "nteract-front-end@1.0.0"
  }
 },
 "nbformat": 4,
 "nbformat_minor": 2
}
